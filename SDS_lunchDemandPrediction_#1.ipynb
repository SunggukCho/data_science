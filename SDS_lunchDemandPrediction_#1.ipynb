{
 "cells": [
  {
   "cell_type": "markdown",
   "metadata": {},
   "source": [
    "# SDS_Meal prediction PROJECT\n",
    "\n",
    "## 0. Defining Domain Knowledge\n",
    ">  PROBLEM:: 구내식당의 BRAND별 메뉴 선택이 항상 달라지기 때문에 식자재가 부족하거나 남는 등의 문제가 발생한다.  \n",
    "> OBJECT:: 구내식당의 BRAND별 MENU 판매수량을 정확히 예상할 수 있다면 보다 효율적이고 경제적인 재료 준비가 가능해질 것이다.  \n",
    "> Example: What will be the demand for the brand, ‘Korean 1’ on 2019-11-01?\n",
    "\n",
    "## 1. DATA 확인하기\n",
    "\n",
    "### 1-1. 데이터로드 및 병합(concat, append)"
   ]
  },
  {
   "cell_type": "code",
   "execution_count": 670,
   "metadata": {},
   "outputs": [],
   "source": [
    "import pandas as pd\n",
    "import numpy as np"
   ]
  },
  {
   "cell_type": "code",
   "execution_count": 671,
   "metadata": {},
   "outputs": [],
   "source": [
    "meal1 = pd.read_csv('meal.csv')\n",
    "meal2 = pd.read_csv('mealData_meal_0525_0731.csv')\n",
    "test1 = pd.read_csv('mealData_customer_0525_0731.csv')\n",
    "test2 = pd.read_csv('customer_info.csv')"
   ]
  },
  {
   "cell_type": "code",
   "execution_count": 672,
   "metadata": {},
   "outputs": [],
   "source": [
    "df1 = pd.DataFrame(meal1)\n",
    "df2 = pd.DataFrame(meal2)\n",
    "df3= pd.DataFrame(test1)\n",
    "df4= pd.DataFrame(test2)"
   ]
  },
  {
   "cell_type": "code",
   "execution_count": 673,
   "metadata": {},
   "outputs": [],
   "source": [
    "customer=df3.append(df4, ignore_index = True)"
   ]
  },
  {
   "cell_type": "code",
   "execution_count": 674,
   "metadata": {},
   "outputs": [],
   "source": [
    "meal = df1.append(df2, ignore_index = True)"
   ]
  },
  {
   "cell_type": "code",
   "execution_count": 675,
   "metadata": {
    "scrolled": true
   },
   "outputs": [
    {
     "data": {
      "text/html": [
       "<div>\n",
       "<style scoped>\n",
       "    .dataframe tbody tr th:only-of-type {\n",
       "        vertical-align: middle;\n",
       "    }\n",
       "\n",
       "    .dataframe tbody tr th {\n",
       "        vertical-align: top;\n",
       "    }\n",
       "\n",
       "    .dataframe thead th {\n",
       "        text-align: right;\n",
       "    }\n",
       "</style>\n",
       "<table border=\"1\" class=\"dataframe\">\n",
       "  <thead>\n",
       "    <tr style=\"text-align: right;\">\n",
       "      <th></th>\n",
       "      <th>SELL_DATE</th>\n",
       "      <th>CUSTOMER_ID</th>\n",
       "      <th>BRAND</th>\n",
       "      <th>MENU</th>\n",
       "      <th>PRICE</th>\n",
       "      <th>QUANTITY</th>\n",
       "    </tr>\n",
       "  </thead>\n",
       "  <tbody>\n",
       "    <tr>\n",
       "      <th>0</th>\n",
       "      <td>2018-01-02</td>\n",
       "      <td>2718043</td>\n",
       "      <td>Chef`sCounter</td>\n",
       "      <td>헬스기빙</td>\n",
       "      <td>6500</td>\n",
       "      <td>1</td>\n",
       "    </tr>\n",
       "    <tr>\n",
       "      <th>1</th>\n",
       "      <td>2018-01-02</td>\n",
       "      <td>2271646</td>\n",
       "      <td>우리미각면</td>\n",
       "      <td>의령온메밀국수</td>\n",
       "      <td>6000</td>\n",
       "      <td>1</td>\n",
       "    </tr>\n",
       "    <tr>\n",
       "      <th>2</th>\n",
       "      <td>2018-01-02</td>\n",
       "      <td>2577432</td>\n",
       "      <td>나폴리폴리</td>\n",
       "      <td>이탈리안포크라이스</td>\n",
       "      <td>6000</td>\n",
       "      <td>1</td>\n",
       "    </tr>\n",
       "    <tr>\n",
       "      <th>3</th>\n",
       "      <td>2018-01-02</td>\n",
       "      <td>2048428</td>\n",
       "      <td>우리미각면</td>\n",
       "      <td>의령온메밀국수</td>\n",
       "      <td>6000</td>\n",
       "      <td>1</td>\n",
       "    </tr>\n",
       "    <tr>\n",
       "      <th>4</th>\n",
       "      <td>2018-01-02</td>\n",
       "      <td>2554917</td>\n",
       "      <td>TakeOut</td>\n",
       "      <td>쌈밥</td>\n",
       "      <td>5500</td>\n",
       "      <td>1</td>\n",
       "    </tr>\n",
       "  </tbody>\n",
       "</table>\n",
       "</div>"
      ],
      "text/plain": [
       "    SELL_DATE  CUSTOMER_ID          BRAND       MENU  PRICE  QUANTITY\n",
       "0  2018-01-02      2718043  Chef`sCounter       헬스기빙   6500         1\n",
       "1  2018-01-02      2271646          우리미각면    의령온메밀국수   6000         1\n",
       "2  2018-01-02      2577432          나폴리폴리  이탈리안포크라이스   6000         1\n",
       "3  2018-01-02      2048428          우리미각면    의령온메밀국수   6000         1\n",
       "4  2018-01-02      2554917        TakeOut         쌈밥   5500         1"
      ]
     },
     "execution_count": 675,
     "metadata": {},
     "output_type": "execute_result"
    }
   ],
   "source": [
    "meal.head()"
   ]
  },
  {
   "cell_type": "code",
   "execution_count": 676,
   "metadata": {
    "scrolled": true
   },
   "outputs": [
    {
     "name": "stdout",
     "output_type": "stream",
     "text": [
      "<class 'pandas.core.frame.DataFrame'>\n",
      "RangeIndex: 1169328 entries, 0 to 1169327\n",
      "Data columns (total 6 columns):\n",
      "SELL_DATE      1169328 non-null object\n",
      "CUSTOMER_ID    1169328 non-null int64\n",
      "BRAND          1169328 non-null object\n",
      "MENU           1169328 non-null object\n",
      "PRICE          1169328 non-null int64\n",
      "QUANTITY       1169328 non-null int64\n",
      "dtypes: int64(3), object(3)\n",
      "memory usage: 53.5+ MB\n"
     ]
    }
   ],
   "source": [
    "meal.info()"
   ]
  },
  {
   "cell_type": "markdown",
   "metadata": {},
   "source": [
    "- rows의 수는 1169328이다\n",
    "- 모든 column의 Data가 non-null 값임을 알 수 있다."
   ]
  },
  {
   "cell_type": "code",
   "execution_count": 677,
   "metadata": {
    "scrolled": true
   },
   "outputs": [
    {
     "data": {
      "text/html": [
       "<div>\n",
       "<style scoped>\n",
       "    .dataframe tbody tr th:only-of-type {\n",
       "        vertical-align: middle;\n",
       "    }\n",
       "\n",
       "    .dataframe tbody tr th {\n",
       "        vertical-align: top;\n",
       "    }\n",
       "\n",
       "    .dataframe thead th {\n",
       "        text-align: right;\n",
       "    }\n",
       "</style>\n",
       "<table border=\"1\" class=\"dataframe\">\n",
       "  <thead>\n",
       "    <tr style=\"text-align: right;\">\n",
       "      <th></th>\n",
       "      <th>CUSTOMER_ID</th>\n",
       "      <th>GENDER</th>\n",
       "      <th>BIRTH_YEAR</th>\n",
       "    </tr>\n",
       "  </thead>\n",
       "  <tbody>\n",
       "    <tr>\n",
       "      <th>0</th>\n",
       "      <td>2673054</td>\n",
       "      <td>남</td>\n",
       "      <td>1983</td>\n",
       "    </tr>\n",
       "    <tr>\n",
       "      <th>1</th>\n",
       "      <td>2036804</td>\n",
       "      <td>남</td>\n",
       "      <td>1973</td>\n",
       "    </tr>\n",
       "    <tr>\n",
       "      <th>2</th>\n",
       "      <td>2639594</td>\n",
       "      <td>남</td>\n",
       "      <td>1969</td>\n",
       "    </tr>\n",
       "    <tr>\n",
       "      <th>3</th>\n",
       "      <td>2307203</td>\n",
       "      <td>남</td>\n",
       "      <td>1983</td>\n",
       "    </tr>\n",
       "    <tr>\n",
       "      <th>4</th>\n",
       "      <td>2215015</td>\n",
       "      <td>남</td>\n",
       "      <td>1972</td>\n",
       "    </tr>\n",
       "  </tbody>\n",
       "</table>\n",
       "</div>"
      ],
      "text/plain": [
       "   CUSTOMER_ID GENDER  BIRTH_YEAR\n",
       "0      2673054      남        1983\n",
       "1      2036804      남        1973\n",
       "2      2639594      남        1969\n",
       "3      2307203      남        1983\n",
       "4      2215015      남        1972"
      ]
     },
     "execution_count": 677,
     "metadata": {},
     "output_type": "execute_result"
    }
   ],
   "source": [
    "customer.head()"
   ]
  },
  {
   "cell_type": "code",
   "execution_count": 678,
   "metadata": {
    "scrolled": true
   },
   "outputs": [
    {
     "name": "stdout",
     "output_type": "stream",
     "text": [
      "<class 'pandas.core.frame.DataFrame'>\n",
      "RangeIndex: 17600 entries, 0 to 17599\n",
      "Data columns (total 3 columns):\n",
      "CUSTOMER_ID    17600 non-null int64\n",
      "GENDER         17600 non-null object\n",
      "BIRTH_YEAR     17600 non-null int64\n",
      "dtypes: int64(2), object(1)\n",
      "memory usage: 412.6+ KB\n"
     ]
    }
   ],
   "source": [
    "customer.info()"
   ]
  },
  {
   "cell_type": "markdown",
   "metadata": {},
   "source": [
    "- rows의 수는 17600이다\n",
    "- 모든 column이 non-null 값임을 알 수 있다"
   ]
  },
  {
   "cell_type": "code",
   "execution_count": 615,
   "metadata": {},
   "outputs": [
    {
     "data": {
      "text/plain": [
       "17600"
      ]
     },
     "execution_count": 615,
     "metadata": {},
     "output_type": "execute_result"
    }
   ],
   "source": [
    "len(customer)"
   ]
  },
  {
   "cell_type": "markdown",
   "metadata": {},
   "source": [
    "### 1-2 CUSTOMER에서 중복항목 제거\n",
    "> 이 과정이 없으면 merge 또는 left join시 customer_id를 key 값으로 묶을 때 하나의 customer_id에 한 개 이상의 값이 매핑되는 문제가 발생하여  \n",
    "원래 데이터의 행 값보다 더 큰 값이 나오게 된다. 따라서 먼저 중복제거 후 merge 또는 left join을 하는 것이 좋다.  \n",
    "위에서는 17600개인데 아래 중복을 제거하고 나면 11023으로 줄어든다."
   ]
  },
  {
   "cell_type": "code",
   "execution_count": 679,
   "metadata": {},
   "outputs": [],
   "source": [
    "customer = customer.drop_duplicates()"
   ]
  },
  {
   "cell_type": "code",
   "execution_count": 680,
   "metadata": {
    "scrolled": true
   },
   "outputs": [
    {
     "data": {
      "text/plain": [
       "11023"
      ]
     },
     "execution_count": 680,
     "metadata": {},
     "output_type": "execute_result"
    }
   ],
   "source": [
    "len(customer)"
   ]
  },
  {
   "cell_type": "markdown",
   "metadata": {},
   "source": [
    "### 1-3. meal data와 customer데이터 merge"
   ]
  },
  {
   "cell_type": "code",
   "execution_count": 681,
   "metadata": {},
   "outputs": [],
   "source": [
    "df = pd.merge(meal, customer, how=\"left\", on=\"CUSTOMER_ID\")"
   ]
  },
  {
   "cell_type": "code",
   "execution_count": 682,
   "metadata": {},
   "outputs": [
    {
     "data": {
      "text/html": [
       "<div>\n",
       "<style scoped>\n",
       "    .dataframe tbody tr th:only-of-type {\n",
       "        vertical-align: middle;\n",
       "    }\n",
       "\n",
       "    .dataframe tbody tr th {\n",
       "        vertical-align: top;\n",
       "    }\n",
       "\n",
       "    .dataframe thead th {\n",
       "        text-align: right;\n",
       "    }\n",
       "</style>\n",
       "<table border=\"1\" class=\"dataframe\">\n",
       "  <thead>\n",
       "    <tr style=\"text-align: right;\">\n",
       "      <th></th>\n",
       "      <th>SELL_DATE</th>\n",
       "      <th>CUSTOMER_ID</th>\n",
       "      <th>BRAND</th>\n",
       "      <th>MENU</th>\n",
       "      <th>PRICE</th>\n",
       "      <th>QUANTITY</th>\n",
       "      <th>GENDER</th>\n",
       "      <th>BIRTH_YEAR</th>\n",
       "    </tr>\n",
       "  </thead>\n",
       "  <tbody>\n",
       "    <tr>\n",
       "      <th>1169323</th>\n",
       "      <td>2019-07-31</td>\n",
       "      <td>2764542</td>\n",
       "      <td>TakeOut</td>\n",
       "      <td>3종 선택 과일</td>\n",
       "      <td>6000</td>\n",
       "      <td>1</td>\n",
       "      <td>여</td>\n",
       "      <td>1989.0</td>\n",
       "    </tr>\n",
       "    <tr>\n",
       "      <th>1169324</th>\n",
       "      <td>2019-07-31</td>\n",
       "      <td>2674091</td>\n",
       "      <td>가츠엔</td>\n",
       "      <td>갈릭돈가스</td>\n",
       "      <td>6500</td>\n",
       "      <td>1</td>\n",
       "      <td>여</td>\n",
       "      <td>1987.0</td>\n",
       "    </tr>\n",
       "    <tr>\n",
       "      <th>1169325</th>\n",
       "      <td>2019-07-31</td>\n",
       "      <td>2839111</td>\n",
       "      <td>탕맛기픈</td>\n",
       "      <td>개성왕만두국</td>\n",
       "      <td>6000</td>\n",
       "      <td>1</td>\n",
       "      <td>여</td>\n",
       "      <td>1977.0</td>\n",
       "    </tr>\n",
       "    <tr>\n",
       "      <th>1169326</th>\n",
       "      <td>2019-07-31</td>\n",
       "      <td>2045716</td>\n",
       "      <td>가츠엔</td>\n",
       "      <td>갈릭돈가스</td>\n",
       "      <td>6500</td>\n",
       "      <td>1</td>\n",
       "      <td>남</td>\n",
       "      <td>1980.0</td>\n",
       "    </tr>\n",
       "    <tr>\n",
       "      <th>1169327</th>\n",
       "      <td>2019-07-31</td>\n",
       "      <td>2674091</td>\n",
       "      <td>나폴리폴리</td>\n",
       "      <td>고구마조각피자</td>\n",
       "      <td>6000</td>\n",
       "      <td>1</td>\n",
       "      <td>여</td>\n",
       "      <td>1987.0</td>\n",
       "    </tr>\n",
       "  </tbody>\n",
       "</table>\n",
       "</div>"
      ],
      "text/plain": [
       "          SELL_DATE  CUSTOMER_ID    BRAND      MENU  PRICE  QUANTITY GENDER  \\\n",
       "1169323  2019-07-31      2764542  TakeOut  3종 선택 과일   6000         1      여   \n",
       "1169324  2019-07-31      2674091      가츠엔     갈릭돈가스   6500         1      여   \n",
       "1169325  2019-07-31      2839111     탕맛기픈    개성왕만두국   6000         1      여   \n",
       "1169326  2019-07-31      2045716      가츠엔     갈릭돈가스   6500         1      남   \n",
       "1169327  2019-07-31      2674091    나폴리폴리   고구마조각피자   6000         1      여   \n",
       "\n",
       "         BIRTH_YEAR  \n",
       "1169323      1989.0  \n",
       "1169324      1987.0  \n",
       "1169325      1977.0  \n",
       "1169326      1980.0  \n",
       "1169327      1987.0  "
      ]
     },
     "execution_count": 682,
     "metadata": {},
     "output_type": "execute_result"
    }
   ],
   "source": [
    "df.tail()"
   ]
  },
  {
   "cell_type": "markdown",
   "metadata": {},
   "source": [
    "### 1-4 DATA별 확인\n",
    "\n",
    "\n",
    "**Factors affecting the demand:**  \n",
    " **기존 Data**  \n",
    "   1) Supplier (Restaurants) Side\n",
    "    - Price\n",
    "   2) Customer Side\n",
    "    - Gender\n",
    "    - Age (or Age group)\n",
    "    \n",
    "   3) External Side\n",
    "    - Day of the week\n",
    "    - Temperature\n",
    "    - Raining\n",
    "    - Humidity"
   ]
  },
  {
   "cell_type": "markdown",
   "metadata": {},
   "source": [
    "### Supplier side\n",
    "#### 1-4-1. PRICE"
   ]
  },
  {
   "cell_type": "code",
   "execution_count": 559,
   "metadata": {
    "scrolled": false
   },
   "outputs": [
    {
     "data": {
      "text/plain": [
       "6500"
      ]
     },
     "execution_count": 559,
     "metadata": {},
     "output_type": "execute_result"
    }
   ],
   "source": [
    "df['PRICE'].max()"
   ]
  },
  {
   "cell_type": "code",
   "execution_count": 570,
   "metadata": {},
   "outputs": [
    {
     "data": {
      "text/plain": [
       "3500"
      ]
     },
     "execution_count": 570,
     "metadata": {},
     "output_type": "execute_result"
    }
   ],
   "source": [
    "df['PRICE'].min()"
   ]
  },
  {
   "cell_type": "code",
   "execution_count": 560,
   "metadata": {},
   "outputs": [],
   "source": [
    "import matplotlib \n",
    "import matplotlib.pyplot as plt"
   ]
  },
  {
   "cell_type": "code",
   "execution_count": 602,
   "metadata": {},
   "outputs": [],
   "source": [
    "price = pd.Series(df['PRICE'])"
   ]
  },
  {
   "cell_type": "code",
   "execution_count": 603,
   "metadata": {
    "scrolled": true
   },
   "outputs": [
    {
     "data": {
      "text/plain": [
       "<matplotlib.axes._subplots.AxesSubplot at 0x7fb0cf32bc18>"
      ]
     },
     "execution_count": 603,
     "metadata": {},
     "output_type": "execute_result"
    },
    {
     "data": {
      "image/png": "[encoded data removed]",
      "text/plain": [
       "<Figure size 432x288 with 1 Axes>"
      ]
     },
     "metadata": {},
     "output_type": "display_data"
    }
   ],
   "source": [
    "price.hist()"
   ]
  },
  {
   "cell_type": "markdown",
   "metadata": {},
   "source": [
    "해석: 평균적으로 6000원대를 가장 선호, 6000원 초과는 절반 이하, 5500 이하는 거의 먹지 않음.  \n",
    "+5000원 이하 메뉴 자체가 적을 수도 있음"
   ]
  },
  {
   "cell_type": "markdown",
   "metadata": {},
   "source": [
    "### Customer Side\n",
    "#### 1-4-2. GENDER "
   ]
  },
  {
   "cell_type": "code",
   "execution_count": 631,
   "metadata": {},
   "outputs": [],
   "source": [
    "from IPython.display import Image"
   ]
  },
  {
   "cell_type": "code",
   "execution_count": 647,
   "metadata": {
    "scrolled": true
   },
   "outputs": [
    {
     "data": {
      "text/html": [
       "<img src=\"gender_rate.png\" width=\"400\"/>"
      ],
      "text/plain": [
       "<IPython.core.display.Image object>"
      ]
     },
     "execution_count": 647,
     "metadata": {},
     "output_type": "execute_result"
    }
   ],
   "source": [
    "Image(url = 'gender_rate.png', width = 400)"
   ]
  },
  {
   "cell_type": "code",
   "execution_count": 690,
   "metadata": {
    "scrolled": true
   },
   "outputs": [
    {
     "data": {
      "text/plain": [
       "남    873343\n",
       "여    295840\n",
       "Name: GENDER, dtype: int64"
      ]
     },
     "execution_count": 690,
     "metadata": {},
     "output_type": "execute_result"
    }
   ],
   "source": [
    "df['GENDER'].value_counts()"
   ]
  },
  {
   "cell_type": "code",
   "execution_count": 691,
   "metadata": {},
   "outputs": [
    {
     "data": {
      "text/plain": [
       "74.69686097043832"
      ]
     },
     "execution_count": 691,
     "metadata": {},
     "output_type": "execute_result"
    }
   ],
   "source": [
    "873343/(873343+295840)*100"
   ]
  },
  {
   "cell_type": "markdown",
   "metadata": {},
   "source": [
    "남성과 여성의 비율은 약 75:25 정도이고,\n",
    "구내식당에서 남성이 식사를 한 비율은 74.69%로 성비와 거의 유사함."
   ]
  },
  {
   "cell_type": "code",
   "execution_count": 642,
   "metadata": {},
   "outputs": [
    {
     "data": {
      "text/html": [
       "<img src=\"gender.png\"/>"
      ],
      "text/plain": [
       "<IPython.core.display.Image object>"
      ]
     },
     "execution_count": 642,
     "metadata": {},
     "output_type": "execute_result"
    }
   ],
   "source": [
    "Image(url= 'gender.png')"
   ]
  },
  {
   "cell_type": "markdown",
   "metadata": {},
   "source": [
    "다른 브랜드들에 비해 2,3,4번째 브랜드가 수요가 많은 편이며, 해당 브랜드들이 또한 여성의 비율이 높은 편.  \n",
    "2 = KOREAN1  \n",
    "3 = KOREAN2   \n",
    "4 = TAKEOUT  "
   ]
  },
  {
   "cell_type": "markdown",
   "metadata": {},
   "source": [
    "#### 1-4-3. AGE"
   ]
  },
  {
   "cell_type": "code",
   "execution_count": 694,
   "metadata": {},
   "outputs": [
    {
     "data": {
      "text/html": [
       "<img src=\"birth_year.png\"/>"
      ],
      "text/plain": [
       "<IPython.core.display.Image object>"
      ]
     },
     "execution_count": 694,
     "metadata": {},
     "output_type": "execute_result"
    }
   ],
   "source": [
    "Image(url = 'birth_year.png')"
   ]
  },
  {
   "cell_type": "markdown",
   "metadata": {},
   "source": [
    "성별에서도 살펴봤듯이, 다른 브랜드들에 비해 2,3,4번째 브랜드가 젊은층(초록색, 노란색)의 비율이 높은 편이다. "
   ]
  },
  {
   "cell_type": "markdown",
   "metadata": {},
   "source": [
    "### External Side\n",
    "#### 1-4-4. Day of the week "
   ]
  },
  {
   "cell_type": "code",
   "execution_count": 700,
   "metadata": {},
   "outputs": [
    {
     "data": {
      "text/html": [
       "<img src=\"weekday.png\"/>"
      ],
      "text/plain": [
       "<IPython.core.display.Image object>"
      ]
     },
     "execution_count": 700,
     "metadata": {},
     "output_type": "execute_result"
    }
   ],
   "source": [
    "Image(url = 'weekday.png')"
   ]
  },
  {
   "cell_type": "markdown",
   "metadata": {},
   "source": [
    "### 2. DATA 추가/변경\n",
    "\n",
    "> 예측을 보다 정확하게 하기 위해 현재 주어진 자료를 바탕으로 추가할 수 있는 데이터를 추가해준다.  \n",
    "> 추가: 1. 날씨 정보(맑음/흐림, 비O/X, 습도), 2. 미세먼지 농도량 (상, 중, 하) 등  \n",
    "> 변경: 1. SELL_DATE은 요일정보로 변경한다"
   ]
  },
  {
   "cell_type": "markdown",
   "metadata": {},
   "source": [
    "### 2-1. WEATHER DATA 추가"
   ]
  },
  {
   "cell_type": "markdown",
   "metadata": {},
   "source": [
    "#### 2-1-1 Temperature"
   ]
  },
  {
   "cell_type": "code",
   "execution_count": 696,
   "metadata": {},
   "outputs": [
    {
     "data": {
      "text/html": [
       "<img src=\"temperature.png\"/>"
      ],
      "text/plain": [
       "<IPython.core.display.Image object>"
      ]
     },
     "execution_count": 696,
     "metadata": {},
     "output_type": "execute_result"
    }
   ],
   "source": [
    "Image(url='temperature.png')"
   ]
  },
  {
   "cell_type": "markdown",
   "metadata": {},
   "source": [
    "#### 2-1-2 Raining  :: **추가예정**"
   ]
  },
  {
   "cell_type": "markdown",
   "metadata": {},
   "source": [
    "#### 2-1-3 Humidity"
   ]
  },
  {
   "cell_type": "code",
   "execution_count": 697,
   "metadata": {},
   "outputs": [
    {
     "data": {
      "text/html": [
       "<img src=\"humidity.png\"/>"
      ],
      "text/plain": [
       "<IPython.core.display.Image object>"
      ]
     },
     "execution_count": 697,
     "metadata": {},
     "output_type": "execute_result"
    }
   ],
   "source": [
    "Image(url= 'humidity.png')"
   ]
  },
  {
   "cell_type": "markdown",
   "metadata": {},
   "source": [
    "#### 2-1-4 Fine dust(미세먼지) :: **추가예정**"
   ]
  },
  {
   "cell_type": "markdown",
   "metadata": {},
   "source": [
    "## 3. Feature Engineering\n",
    "\n",
    "숫자가 아닌 GENDER, BIRTH_YEAR, BRAND columns는 수치화 할 예정이며, 요일, 온도, 습도 등의 데이터는 구간을 적용해 다시 추가할 예정이다. 또한 모델링에 불필요해 보이는 자료는 제거할 예정이다."
   ]
  },
  {
   "cell_type": "markdown",
   "metadata": {},
   "source": [
    "## 4. Modeling\n",
    "\n",
    "> 브랜드별 수요를 예측하기 위한 모델링을 고려하고 있다. 이 경우, supervised algorithms이라 보이기 때문에 아래와 같은 예시 후보군이 있다. 하나 하나 해보고 가장 높은 정확도를 보이는 모델을 선택하고자 한다.\n",
    "\n",
    "1. Support Vector Machines.\n",
    "2. linear regression.\n",
    "3. logistic regression.\n",
    "4. naive Bayes.\n",
    "5. linear discriminant analysis.\n",
    "6. decision trees.\n",
    "7. k-nearest neighbor algorithm.\n",
    "8. Neural Networks (Multilayer perceptron)"
   ]
  },
  {
   "cell_type": "markdown",
   "metadata": {},
   "source": [
    "## 5. 향후과제\n",
    "\n",
    "1. 준비하지 못한 raining과 미세먼지 데이터 등을 추가할 예정이다.\n",
    "2. 단순한 온도, 습도 보다는 사람의 기분에 영향을 줄 수 있는 불쾌지수, 체감온도 등의 데이터가 더 좋은지 체크해볼 예정이다.\n",
    "3. 여러가지 모델링 중 가장 적합한 모델을 선택할 예정이다.\n",
    "4. Feature engineering을 적용해보며 최적의 모델을 찾도록 할 예정이다."
   ]
  },
  {
   "cell_type": "code",
   "execution_count": null,
   "metadata": {},
   "outputs": [],
   "source": []
  }
 ],
 "metadata": {
  "kernelspec": {
   "display_name": "Python 3",
   "language": "python",
   "name": "python3"
  },
  "language_info": {
   "codemirror_mode": {
    "name": "ipython",
    "version": 3
   },
   "file_extension": ".py",
   "mimetype": "text/x-python",
   "name": "python",
   "nbconvert_exporter": "python",
   "pygments_lexer": "ipython3",
   "version": "3.7.3"
  }
 },
 "nbformat": 4,
 "nbformat_minor": 2
}
